{
 "cells": [
  {
   "cell_type": "markdown",
   "id": "b2276018",
   "metadata": {},
   "source": [
    "# 01_data_exploration.ipynb\n",
    "\n",
    "Basic EDA for Week 1 submission: Awareness Survey dataset.\n",
    "\n",
    "**Tasks performed:**\n",
    "1. Import libraries\n",
    "2. Load dataset\n",
    "3. Run `.info()`, `.describe()`, `.isnull().sum()`\n",
    "\n"
   ]
  },
  {
   "cell_type": "code",
   "execution_count": null,
   "id": "5495be1c",
   "metadata": {},
   "outputs": [],
   "source": [
    "# 1. Import libraries\n",
    "import pandas as pd\n",
    "import matplotlib.pyplot as plt\n",
    "\n",
    "print('Libraries imported')\n"
   ]
  },
  {
   "cell_type": "code",
   "execution_count": null,
   "id": "61934a51",
   "metadata": {},
   "outputs": [],
   "source": [
    "# 2. Load dataset\n",
    "csv_path = '../data/raw/awareness_survey.csv'\n",
    "df = pd.read_csv(csv_path)\n",
    "print('Loaded', csv_path)\n",
    "\n",
    "# Show first 5 rows\n",
    "df.head()\n"
   ]
  },
  {
   "cell_type": "code",
   "execution_count": null,
   "id": "7a1b3480",
   "metadata": {},
   "outputs": [],
   "source": [
    "# 3. Explore dataset\n",
    "print('\\n--- DATAFRAME INFO ---\\n')\n",
    "df.info()\n",
    "\n",
    "print('\\n--- DESCRIPTIVE STATISTICS (numeric cols) ---\\n')\n",
    "print(df.describe())\n",
    "\n",
    "print('\\n--- MISSING VALUES (per column) ---\\n')\n",
    "print(df.isnull().sum())\n"
   ]
  },
  {
   "cell_type": "code",
   "execution_count": null,
   "id": "31126560",
   "metadata": {},
   "outputs": [],
   "source": [
    "# Optional: simple visualization using matplotlib\n",
    "counts = df['awareness_level'].value_counts(dropna=False)\n",
    "plt.figure(figsize=(6,4))\n",
    "counts.plot(kind='bar')\n",
    "plt.title('Awareness Level Distribution (including NaN)')\n",
    "plt.xlabel('Awareness Level')\n",
    "plt.ylabel('Count')\n",
    "plt.tight_layout()\n",
    "plt.show()\n"
   ]
  }
 ],
 "metadata": {
  "kernelspec": {
   "display_name": "Python 3 (ipykernel)",
   "language": "python",
   "name": "python3"
  },
  "language_info": {
   "codemirror_mode": {
    "name": "ipython",
    "version": 3
   },
   "file_extension": ".py",
   "mimetype": "text/x-python",
   "name": "python",
   "nbconvert_exporter": "python",
   "pygments_lexer": "ipython3",
   "version": "3.11.9"
  }
 },
 "nbformat": 4,
 "nbformat_minor": 5
}
