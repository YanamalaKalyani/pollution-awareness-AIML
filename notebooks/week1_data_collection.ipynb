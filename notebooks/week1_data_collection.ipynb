{
  "nbformat": 4,
  "nbformat_minor": 5,
  "metadata": {},
  "cells": [
    {
      "cell_type": "markdown",
      "metadata": {},
      "source": "# Week 1 - Data Collection\n\nThis notebook shows the dataset used for the Pollution Awareness project."
    },
    {
      "cell_type": "code",
      "metadata": {},
      "source": "import pandas as pd\n\ndf = pd.read_csv('../data/environment_data.csv')\ndf.head()",
      "outputs": [],
      "execution_count": null
    }
  ]
}